{
 "cells": [
  {
   "cell_type": "markdown",
   "metadata": {},
   "source": [
    "Three Observable Trends:\n",
    "1. There is a strong correlation between latitude and max temperature.  The closer you are to the equator (latitude of 0) the higher your max temperature will be.  The farther away from the equator you are the lower your max temperature will be.\n",
    "2. Based off of the pool of cities that I used there seems to be a bigger r-value correlation between the northern hempishere max temperature based off of latitude (r value = -0.8763712703861579) compared to the souther hempishere max temperature based off of latitude (r value = 0.5386852978311982).\n",
    "3. There does not seem to be a correlation between latitude and wind speed, latitude and cloudiness and latitude and humidity."
   ]
  },
  {
   "cell_type": "markdown",
   "metadata": {},
   "source": [
    "# WeatherPy\n",
    "----\n",
    "\n",
    "#### Note\n",
    "* Instructions have been included for each segment. You do not have to follow them exactly, but they are included to help you think through the steps.\n",
    "\n",
    "# Dependencies and Setup\n",
    "import matplotlib.pyplot as plt\n",
    "import pandas as pd\n",
    "import numpy as np\n",
    "import requests\n",
    "import time\n",
    "from scipy.stats import linregress\n",
    "\n",
    "# Import API key\n",
    "from api_keys import weather_api_key\n",
    "\n",
    "# Incorporated citipy to determine city based on latitude and longitude\n",
    "from citipy import citipy\n",
    "\n",
    "# Output File (CSV)\n",
    "output_data_file = \"output_data/cities.csv\"\n",
    "\n",
    "# Range of latitudes and longitudes\n",
    "lat_range = (-90, 90)\n",
    "lng_range = (-180, 180)"
   ]
  },
  {
   "cell_type": "markdown",
   "metadata": {},
   "source": [
    "## Generate Cities List"
   ]
  },
  {
   "cell_type": "code",
   "execution_count": 3,
   "metadata": {},
   "outputs": [
    {
     "data": {
      "text/plain": [
       "612"
      ]
     },
     "execution_count": 3,
     "metadata": {},
     "output_type": "execute_result"
    }
   ],
   "source": [
    "# List for holding lat_lngs and cities\n",
    "lat_lngs = []\n",
    "cities = []\n",
    "\n",
    "# Create a set of random lat and lng combinations\n",
    "lats = np.random.uniform(lat_range[0], lat_range[1], size=1500)\n",
    "lngs = np.random.uniform(lng_range[0], lng_range[1], size=1500)\n",
    "lat_lngs = zip(lats, lngs)\n",
    "\n",
    "# Identify nearest city for each lat, lng combination\n",
    "for lat_lng in lat_lngs:\n",
    "    city = citipy.nearest_city(lat_lng[0], lat_lng[1]).city_name\n",
    "    \n",
    "    # If the city is unique, then add it to a our cities list\n",
    "    if city not in cities:\n",
    "        cities.append(city)\n",
    "\n",
    "# Print the city count to confirm sufficient count\n",
    "len(cities)"
   ]
  },
  {
   "cell_type": "markdown",
   "metadata": {},
   "source": [
    "### Perform API Calls\n",
    "* Perform a weather check on each city using a series of successive API calls.\n",
    "* Include a print log of each city as it'sbeing processed (with the city number and city name).\n"
   ]
  },
  {
   "cell_type": "code",
   "execution_count": 4,
   "metadata": {
    "scrolled": true
   },
   "outputs": [
    {
     "data": {
      "text/plain": [
       "{'coord': {'lon': 152.15, 'lat': -32.7167},\n",
       " 'weather': [{'id': 804,\n",
       "   'main': 'Clouds',\n",
       "   'description': 'overcast clouds',\n",
       "   'icon': '04n'}],\n",
       " 'base': 'stations',\n",
       " 'main': {'temp': 72.61,\n",
       "  'feels_like': 70.11,\n",
       "  'temp_min': 71.01,\n",
       "  'temp_max': 73.99,\n",
       "  'pressure': 1010,\n",
       "  'humidity': 73},\n",
       " 'visibility': 10000,\n",
       " 'wind': {'speed': 12.66, 'deg': 50},\n",
       " 'clouds': {'all': 97},\n",
       " 'dt': 1612435598,\n",
       " 'sys': {'type': 1,\n",
       "  'id': 9605,\n",
       "  'country': 'AU',\n",
       "  'sunrise': 1612379869,\n",
       "  'sunset': 1612428765},\n",
       " 'timezone': 39600,\n",
       " 'id': 2155562,\n",
       " 'name': 'Nelson Bay',\n",
       " 'cod': 200}"
      ]
     },
     "execution_count": 4,
     "metadata": {},
     "output_type": "execute_result"
    }
   ],
   "source": [
    "#Pull from OpenWeatherMap using API key\n",
    "url = \"http://api.openweathermap.org/data/2.5/weather?\"\n",
    "units=\"imperial\"\n",
    "# Build query URL\n",
    "query_url = f\"{url}appid={weather_api_key}&units={units}&q=\"\n",
    "weather_response=requests.get(query_url + city)\n",
    "weather_json=weather_response.json()\n",
    "weather_json"
   ]
  },
  {
   "cell_type": "code",
   "execution_count": 5,
   "metadata": {},
   "outputs": [
    {
     "name": "stdout",
     "output_type": "stream",
     "text": [
      "Beginning Data Retrieval\n",
      "--------------------------\n",
      "Processing Record 1 of Set Buala\n",
      "Processing Record 2 of Set Yellowknife\n",
      "Processing Record 3 of Set Kondinskoye\n",
      "Processing Record 4 of Set Lázaro Cárdenas\n",
      "Processing Record 5 of Set Kapaa\n",
      "Processing Record 6 of Set ‘Ewa Beach\n",
      "Processing Record 7 of Set Nanpiao\n",
      "Processing Record 8 of Set Mar del Plata\n",
      "Processing Record 9 of Set Rikitea\n",
      "City not found. Skipping...\n",
      "Processing Record 10 of Set Celestún\n",
      "Processing Record 11 of Set Longyearbyen\n",
      "Processing Record 12 of Set West Wendover\n",
      "Processing Record 13 of Set Fort Nelson\n",
      "Processing Record 14 of Set Balgazyn\n",
      "Processing Record 15 of Set Nikolskoye\n",
      "Processing Record 16 of Set Mataura\n",
      "Processing Record 17 of Set Airai\n",
      "Processing Record 18 of Set Touros\n",
      "Processing Record 19 of Set George Town\n",
      "Processing Record 20 of Set Laas\n",
      "Processing Record 21 of Set Thompson\n",
      "Processing Record 22 of Set Saskylakh\n",
      "Processing Record 23 of Set Hermanus\n",
      "Processing Record 24 of Set Atuona\n",
      "Processing Record 25 of Set Talara\n",
      "Processing Record 26 of Set Cape Town\n",
      "Processing Record 27 of Set Provideniya\n",
      "Processing Record 28 of Set New Norfolk\n",
      "Processing Record 29 of Set Gizo Government Station\n",
      "Processing Record 30 of Set Albany\n",
      "Processing Record 31 of Set Alofi\n",
      "Processing Record 32 of Set Pandan\n",
      "Processing Record 33 of Set Tuatapere\n",
      "Processing Record 34 of Set Shingū\n",
      "Processing Record 35 of Set Pisco\n",
      "City not found. Skipping...\n",
      "City not found. Skipping...\n",
      "Processing Record 36 of Set Ushuaia\n",
      "City not found. Skipping...\n",
      "Processing Record 37 of Set Nanortalik\n",
      "Processing Record 38 of Set Bria\n",
      "Processing Record 39 of Set East London\n",
      "Processing Record 40 of Set Ust'-Ilimsk\n",
      "Processing Record 41 of Set Butaritari\n",
      "Processing Record 42 of Set Collie\n",
      "Processing Record 43 of Set Charleston\n",
      "Processing Record 44 of Set Abu Dhabi\n",
      "Processing Record 45 of Set Arraial do Cabo\n",
      "Processing Record 46 of Set Busselton\n",
      "Processing Record 47 of Set Vanimo\n",
      "Processing Record 48 of Set Pimentel\n",
      "Processing Record 49 of Set Tselinnoye\n",
      "Processing Record 50 of Set Hobart\n",
      "Processing Record 51 of Set Hong Kong\n",
      "City not found. Skipping...\n",
      "Processing Record 52 of Set Vaini\n",
      "City not found. Skipping...\n",
      "Processing Record 53 of Set Jamestown\n",
      "City not found. Skipping...\n",
      "Processing Record 54 of Set Henties Bay\n",
      "Processing Record 55 of Set Porto Torres\n",
      "Processing Record 56 of Set Avarua\n",
      "Processing Record 57 of Set Ternate\n",
      "Processing Record 58 of Set Avera\n",
      "Processing Record 59 of Set Saint-Philippe\n",
      "Processing Record 60 of Set Dikson\n",
      "Processing Record 61 of Set Ilulissat\n",
      "Processing Record 62 of Set Mount Gambier\n",
      "Processing Record 63 of Set Barrow\n",
      "Processing Record 64 of Set Trenggalek\n",
      "Processing Record 65 of Set Khatanga\n",
      "Processing Record 66 of Set Punta Arenas\n",
      "Processing Record 67 of Set Xinqing\n",
      "Processing Record 68 of Set Resistencia\n",
      "Processing Record 69 of Set Zeya\n",
      "City not found. Skipping...\n",
      "Processing Record 70 of Set Sivac\n",
      "Processing Record 71 of Set Kiryat Gat\n",
      "City not found. Skipping...\n",
      "Processing Record 72 of Set Esperance\n",
      "Processing Record 73 of Set Mnogovershinnyy\n",
      "City not found. Skipping...\n",
      "Processing Record 74 of Set Souillac\n",
      "Processing Record 75 of Set São Filipe\n",
      "Processing Record 76 of Set Boyolangu\n",
      "Processing Record 77 of Set Bathsheba\n",
      "Processing Record 78 of Set Port Alfred\n",
      "Processing Record 79 of Set Waddān\n",
      "Processing Record 80 of Set Hasaki\n",
      "Processing Record 81 of Set Bredasdorp\n",
      "Processing Record 82 of Set Bethel\n",
      "Processing Record 83 of Set Awjilah\n",
      "Processing Record 84 of Set Bluff\n",
      "Processing Record 85 of Set Castro\n",
      "Processing Record 86 of Set Hithadhoo\n",
      "Processing Record 87 of Set Cairns\n",
      "Processing Record 88 of Set Maïné Soroa\n",
      "Processing Record 89 of Set Latung\n",
      "Processing Record 90 of Set Lagoa\n",
      "Processing Record 91 of Set Mount Isa\n",
      "Processing Record 92 of Set Beloha\n",
      "Processing Record 93 of Set Comodoro Rivadavia\n",
      "Processing Record 94 of Set Sexsmith\n",
      "Processing Record 95 of Set Fernley\n",
      "Processing Record 96 of Set Labuan\n",
      "Processing Record 97 of Set Egvekinot\n",
      "Processing Record 98 of Set Tuktoyaktuk\n",
      "Processing Record 99 of Set Ancud\n",
      "Processing Record 100 of Set Ahipara\n",
      "Processing Record 101 of Set Ribeira Grande\n",
      "Processing Record 102 of Set Lapua\n",
      "Processing Record 103 of Set Viedma\n",
      "Processing Record 104 of Set Maitum\n",
      "Processing Record 105 of Set Bambous Virieux\n",
      "Processing Record 106 of Set Van\n",
      "Processing Record 107 of Set Bowen\n",
      "Processing Record 108 of Set Byron Bay\n",
      "City not found. Skipping...\n",
      "Processing Record 109 of Set Korla\n",
      "City not found. Skipping...\n",
      "Processing Record 110 of Set Zhigansk\n",
      "Processing Record 111 of Set Cherskiy\n",
      "Processing Record 112 of Set Chunskiy\n",
      "Processing Record 113 of Set Vila Franca do Campo\n",
      "Processing Record 114 of Set Manapparai\n",
      "Processing Record 115 of Set Palora\n",
      "Processing Record 116 of Set Daru\n",
      "Processing Record 117 of Set Salinas\n",
      "Processing Record 118 of Set Lerwick\n",
      "Processing Record 119 of Set Tiksi\n",
      "Processing Record 120 of Set Manokwari\n",
      "Processing Record 121 of Set Leningradskiy\n",
      "Processing Record 122 of Set Hudiksvall\n",
      "Processing Record 123 of Set Geraldton\n",
      "Processing Record 124 of Set Orsha\n",
      "Processing Record 125 of Set Mayo\n",
      "Processing Record 126 of Set Buraidah\n",
      "Processing Record 127 of Set Monywa\n",
      "Processing Record 128 of Set Qaanaaq\n",
      "Processing Record 129 of Set Erenhot\n",
      "Processing Record 130 of Set Solenzo\n",
      "Processing Record 131 of Set Srednekolymsk\n",
      "Processing Record 132 of Set Taoudenni\n",
      "Processing Record 133 of Set San Quintín\n",
      "Processing Record 134 of Set Tevaitoa\n",
      "Processing Record 135 of Set Matara\n",
      "Processing Record 136 of Set Meulaboh\n",
      "Processing Record 137 of Set Saint George\n",
      "Processing Record 138 of Set Tak\n",
      "Processing Record 139 of Set Yeppoon\n",
      "Processing Record 140 of Set Lebu\n",
      "Processing Record 141 of Set Eskişehir\n",
      "Processing Record 142 of Set Iqaluit\n",
      "Processing Record 143 of Set Inverell\n",
      "Processing Record 144 of Set Tual\n",
      "Processing Record 145 of Set Carnarvon\n",
      "Processing Record 146 of Set Deniliquin\n",
      "Processing Record 147 of Set Rundu\n",
      "Processing Record 148 of Set Upernavik\n",
      "Processing Record 149 of Set Zihuatanejo\n",
      "Processing Record 150 of Set Torbay\n",
      "Processing Record 151 of Set Sekoma\n",
      "Processing Record 152 of Set Camacha\n",
      "Processing Record 153 of Set Ponta do Sol\n",
      "Processing Record 154 of Set Aktash\n",
      "Processing Record 155 of Set Beyneu\n",
      "Processing Record 156 of Set Upington\n",
      "City not found. Skipping...\n",
      "Processing Record 157 of Set Bontang\n",
      "Processing Record 158 of Set Birao\n",
      "City not found. Skipping...\n",
      "Processing Record 159 of Set Nong Khai\n",
      "Processing Record 160 of Set Suna\n",
      "Processing Record 161 of Set Punta Alta\n",
      "Processing Record 162 of Set Port-Gentil\n",
      "Processing Record 163 of Set Macklin\n",
      "Processing Record 164 of Set Tateyama\n",
      "Processing Record 165 of Set Sistranda\n",
      "Processing Record 166 of Set Hualmay\n",
      "Processing Record 167 of Set Sobolevo\n",
      "Processing Record 168 of Set Luwuk\n",
      "Processing Record 169 of Set Jalu\n",
      "Processing Record 170 of Set Libreville\n",
      "Processing Record 171 of Set Puerto Ayora\n",
      "City not found. Skipping...\n",
      "Processing Record 172 of Set Carutapera\n",
      "Processing Record 173 of Set Kaeo\n",
      "Processing Record 174 of Set Kitgum\n",
      "City not found. Skipping...\n",
      "Processing Record 175 of Set Hilo\n",
      "Processing Record 176 of Set Wanning\n",
      "Processing Record 177 of Set Grindavik\n",
      "Processing Record 178 of Set Alice Springs\n",
      "Processing Record 179 of Set Pelaya\n",
      "Processing Record 180 of Set Yulara\n",
      "Processing Record 181 of Set Port Elizabeth\n",
      "Processing Record 182 of Set Gobabis\n",
      "Processing Record 183 of Set Orlik\n",
      "Processing Record 184 of Set Zunyi\n",
      "City not found. Skipping...\n",
      "City not found. Skipping...\n",
      "Processing Record 185 of Set Rosarito\n",
      "Processing Record 186 of Set Iiyama\n",
      "Processing Record 187 of Set Vardø\n",
      "Processing Record 188 of Set Aykhal\n",
      "Processing Record 189 of Set Faanui\n",
      "Processing Record 190 of Set Gallup\n",
      "Processing Record 191 of Set Saint-Augustin\n",
      "Processing Record 192 of Set Chui\n",
      "Processing Record 193 of Set Suntar\n",
      "Processing Record 194 of Set Amga\n",
      "Processing Record 195 of Set Port Blair\n",
      "Processing Record 196 of Set Kokoda\n",
      "Processing Record 197 of Set Uarini\n",
      "Processing Record 198 of Set Katsuura\n",
      "Processing Record 199 of Set Víctor Rosales\n",
      "Processing Record 200 of Set San Patricio\n",
      "Processing Record 201 of Set Kahului\n",
      "Processing Record 202 of Set Dagana\n",
      "City not found. Skipping...\n",
      "Processing Record 203 of Set Noumea\n",
      "Processing Record 204 of Set Tokmak\n"
     ]
    },
    {
     "name": "stdout",
     "output_type": "stream",
     "text": [
      "Processing Record 205 of Set Klyuchi\n",
      "Processing Record 206 of Set Arecibo\n",
      "Processing Record 207 of Set Laguna\n",
      "Processing Record 208 of Set Makakilo City\n",
      "Processing Record 209 of Set Anzio\n",
      "Processing Record 210 of Set Asheville\n",
      "Processing Record 211 of Set Fairbanks\n",
      "Processing Record 212 of Set Chokurdakh\n",
      "Processing Record 213 of Set Plastun\n",
      "Processing Record 214 of Set Pevek\n",
      "Processing Record 215 of Set Hūn\n",
      "Processing Record 216 of Set Batemans Bay\n",
      "Processing Record 217 of Set Dongsheng\n",
      "Processing Record 218 of Set Alakurtti\n",
      "Processing Record 219 of Set Bengkulu\n",
      "Processing Record 220 of Set Norman Wells\n",
      "City not found. Skipping...\n",
      "Processing Record 221 of Set Lagos\n",
      "Processing Record 222 of Set Pangnirtung\n",
      "Processing Record 223 of Set Taltal\n",
      "Processing Record 224 of Set Alberton\n",
      "Processing Record 225 of Set Acapulco de Juárez\n",
      "Processing Record 226 of Set Keta\n",
      "City not found. Skipping...\n",
      "Processing Record 227 of Set Tiznit Province\n",
      "Processing Record 228 of Set Goiatuba\n",
      "Processing Record 229 of Set Beringovskiy\n",
      "Processing Record 230 of Set Mokhotlong\n",
      "Processing Record 231 of Set Severo-Kuril'sk\n",
      "Processing Record 232 of Set Watertown\n",
      "Processing Record 233 of Set Itoman\n",
      "Processing Record 234 of Set Along\n",
      "Processing Record 235 of Set Pilar\n",
      "Processing Record 236 of Set Mogadishu\n",
      "Processing Record 237 of Set Soyo\n",
      "Processing Record 238 of Set Copperas Cove\n",
      "Processing Record 239 of Set Kuji\n",
      "Processing Record 240 of Set Bereket\n",
      "Processing Record 241 of Set Margate\n",
      "Processing Record 242 of Set Kingsville\n",
      "Processing Record 243 of Set Isla Mujeres\n",
      "Processing Record 244 of Set Lorengau\n",
      "Processing Record 245 of Set Aquiraz\n",
      "Processing Record 246 of Set Paranaíba\n",
      "Processing Record 247 of Set Raudeberg\n",
      "Processing Record 248 of Set Fort-Shevchenko\n",
      "Processing Record 249 of Set Barcelos\n",
      "Processing Record 250 of Set Pringsewu\n",
      "Processing Record 251 of Set Kasane\n",
      "Processing Record 252 of Set Talnakh\n",
      "Processing Record 253 of Set Labuhan\n",
      "Processing Record 254 of Set Victor Harbor\n",
      "Processing Record 255 of Set Ignacio Zaragoza\n",
      "City not found. Skipping...\n",
      "Processing Record 256 of Set Kargil\n",
      "Processing Record 257 of Set Thinadhoo\n",
      "Processing Record 258 of Set Mashhad\n",
      "Processing Record 259 of Set Port Hawkesbury\n",
      "Processing Record 260 of Set Liverpool\n",
      "Processing Record 261 of Set Evensk\n",
      "Processing Record 262 of Set Fatehpur Sikri\n",
      "Processing Record 263 of Set Hofn\n",
      "Processing Record 264 of Set Kenai\n",
      "Processing Record 265 of Set Mandera\n",
      "Processing Record 266 of Set Flinders\n",
      "City not found. Skipping...\n",
      "Processing Record 267 of Set Deputatsky\n",
      "Processing Record 268 of Set Marsá Maţrūḩ\n",
      "City not found. Skipping...\n",
      "Processing Record 269 of Set Berck\n",
      "Processing Record 270 of Set Porto Walter\n",
      "Processing Record 271 of Set Ambilobe\n",
      "Processing Record 272 of Set Cabo San Lucas\n",
      "City not found. Skipping...\n",
      "Processing Record 273 of Set Kjøllefjord\n",
      "Processing Record 274 of Set Cabedelo\n",
      "Processing Record 275 of Set Am Timan\n",
      "Processing Record 276 of Set Taitung City\n",
      "Processing Record 277 of Set Fredericton\n",
      "Processing Record 278 of Set Sinazongwe\n",
      "Processing Record 279 of Set Mossamedes\n",
      "Processing Record 280 of Set Klaksvík\n",
      "Processing Record 281 of Set Kavieng\n",
      "Processing Record 282 of Set Kushima\n",
      "Processing Record 283 of Set Assiniboia\n",
      "Processing Record 284 of Set Tyazhinskiy\n",
      "Processing Record 285 of Set Barre\n",
      "Processing Record 286 of Set Mezhdurechensk\n",
      "Processing Record 287 of Set Quang Ngai\n",
      "Processing Record 288 of Set Biak\n",
      "Processing Record 289 of Set Mizdah\n",
      "Processing Record 290 of Set Pravokumskoye\n",
      "Processing Record 291 of Set Qaqortoq\n",
      "City not found. Skipping...\n",
      "Processing Record 292 of Set Nishihara\n",
      "Processing Record 293 of Set Coquimbo\n",
      "Processing Record 294 of Set Dābhol\n",
      "Processing Record 295 of Set Senanga\n",
      "Processing Record 296 of Set Haines Junction\n",
      "Processing Record 297 of Set Tripoli\n",
      "Processing Record 298 of Set Saldanha\n",
      "Processing Record 299 of Set Huicungo\n",
      "Processing Record 300 of Set General Roca\n",
      "Processing Record 301 of Set Tasiilaq\n",
      "Processing Record 302 of Set Hueytamalco\n",
      "Processing Record 303 of Set Skellefteå\n",
      "Processing Record 304 of Set Jiuquan\n",
      "City not found. Skipping...\n",
      "Processing Record 305 of Set Zhezkazgan\n",
      "City not found. Skipping...\n",
      "Processing Record 306 of Set Belaya Gora\n",
      "Processing Record 307 of Set Los Llanos de Aridane\n",
      "Processing Record 308 of Set Porto Santo\n",
      "City not found. Skipping...\n",
      "Processing Record 309 of Set Hay River\n",
      "Processing Record 310 of Set Kétou\n",
      "Processing Record 311 of Set Yangcun\n",
      "Processing Record 312 of Set Rawson\n",
      "City not found. Skipping...\n",
      "Processing Record 313 of Set Midland\n",
      "Processing Record 314 of Set Berlevåg\n",
      "Processing Record 315 of Set Kropotkin\n",
      "Processing Record 316 of Set Horodnytsya\n",
      "Processing Record 317 of Set Jumla\n",
      "Processing Record 318 of Set Nemuro\n",
      "Processing Record 319 of Set Yatou\n",
      "Processing Record 320 of Set Saint Paul Harbor\n",
      "Processing Record 321 of Set Sitka\n",
      "Processing Record 322 of Set Obo\n",
      "Processing Record 323 of Set Khovd\n",
      "Processing Record 324 of Set Port Lincoln\n",
      "Processing Record 325 of Set Palu\n",
      "Processing Record 326 of Set Green River\n",
      "Processing Record 327 of Set Kendari\n",
      "City not found. Skipping...\n",
      "Processing Record 328 of Set São Gabriel da Cachoeira\n",
      "Processing Record 329 of Set Puerto Baquerizo Moreno\n",
      "Processing Record 330 of Set Fortuna\n",
      "Processing Record 331 of Set Rūdbār\n",
      "Processing Record 332 of Set Puerto Escondido\n",
      "Processing Record 333 of Set Dawson Creek\n",
      "Processing Record 334 of Set Naples\n",
      "Processing Record 335 of Set Opuwo\n",
      "Processing Record 336 of Set Narsaq\n",
      "Processing Record 337 of Set Béziers\n",
      "Processing Record 338 of Set São João da Barra\n",
      "Processing Record 339 of Set Aitape\n",
      "Processing Record 340 of Set Cotonou\n",
      "Processing Record 341 of Set Sur\n",
      "Processing Record 342 of Set Sioux Lookout\n",
      "Processing Record 343 of Set Oranjemund\n",
      "Processing Record 344 of Set Erie\n",
      "City not found. Skipping...\n",
      "Processing Record 345 of Set Shimoda\n",
      "Processing Record 346 of Set Gondanglegi\n",
      "Processing Record 347 of Set Oyo\n",
      "Processing Record 348 of Set Adeje\n",
      "Processing Record 349 of Set Rauma\n",
      "City not found. Skipping...\n",
      "Processing Record 350 of Set Tiarei\n",
      "Processing Record 351 of Set Bāfq\n",
      "Processing Record 352 of Set Bafoulabé\n",
      "Processing Record 353 of Set Bendigo\n",
      "Processing Record 354 of Set Tura\n",
      "Processing Record 355 of Set Hambantota\n",
      "Processing Record 356 of Set Bambanglipuro\n",
      "Processing Record 357 of Set Fort Morgan\n",
      "Processing Record 358 of Set Boende\n",
      "Processing Record 359 of Set Port Hardy\n",
      "Processing Record 360 of Set Luganville\n",
      "Processing Record 361 of Set Polunochnoye\n",
      "Processing Record 362 of Set Russell\n",
      "Processing Record 363 of Set Karaton\n",
      "Processing Record 364 of Set Chalisgaon\n",
      "City not found. Skipping...\n",
      "Processing Record 365 of Set Kazanka\n",
      "Processing Record 366 of Set Broome\n",
      "Processing Record 367 of Set Palatka\n",
      "Processing Record 368 of Set Mana\n",
      "Processing Record 369 of Set Maniitsoq\n",
      "Processing Record 370 of Set Tautira\n",
      "City not found. Skipping...\n",
      "Processing Record 371 of Set Grand Gaube\n",
      "Processing Record 372 of Set Goundam\n",
      "Processing Record 373 of Set Burnie\n",
      "Processing Record 374 of Set Teya\n",
      "Processing Record 375 of Set Partenit\n",
      "Processing Record 376 of Set Znamenskoye\n",
      "Processing Record 377 of Set Kemijärvi\n",
      "Processing Record 378 of Set Araouane\n",
      "Processing Record 379 of Set Timbiquí\n",
      "Processing Record 380 of Set Vila Velha\n",
      "Processing Record 381 of Set Uruçuí\n",
      "Processing Record 382 of Set Urucará\n",
      "Processing Record 383 of Set Rudabánya\n",
      "Processing Record 384 of Set Jinka\n",
      "Processing Record 385 of Set Praia da Vitória\n",
      "City not found. Skipping...\n",
      "Processing Record 386 of Set Yerbogachën\n",
      "Processing Record 387 of Set Eirunepé\n",
      "Processing Record 388 of Set Punta de Bombón\n",
      "Processing Record 389 of Set Tommot\n",
      "Processing Record 390 of Set Emerald\n",
      "Processing Record 391 of Set Shiyan\n",
      "Processing Record 392 of Set Kristiansund\n",
      "Processing Record 393 of Set Coahuayana Viejo\n",
      "Processing Record 394 of Set Fort Saint James\n",
      "Processing Record 395 of Set Mitú\n",
      "Processing Record 396 of Set Cedar City\n",
      "Processing Record 397 of Set Minna\n",
      "Processing Record 398 of Set Tirumullaivāsal\n",
      "Processing Record 399 of Set Abu Kamal\n",
      "Processing Record 400 of Set Hohhot\n",
      "Processing Record 401 of Set Kologriv\n",
      "Processing Record 402 of Set Manavālakurichi\n",
      "Processing Record 403 of Set Bose\n",
      "City not found. Skipping...\n"
     ]
    },
    {
     "name": "stdout",
     "output_type": "stream",
     "text": [
      "Processing Record 404 of Set Kokopo\n",
      "Processing Record 405 of Set Batagay-Alyta\n",
      "Processing Record 406 of Set Port Hedland\n",
      "City not found. Skipping...\n",
      "Processing Record 407 of Set Okha\n",
      "Processing Record 408 of Set San Luis\n",
      "Processing Record 409 of Set Santa Flavia\n",
      "Processing Record 410 of Set Oussouye\n",
      "Processing Record 411 of Set Glendive\n",
      "Processing Record 412 of Set Portland\n",
      "Processing Record 413 of Set Mokrous\n",
      "Processing Record 414 of Set Kodinsk\n",
      "Processing Record 415 of Set Vestmanna\n",
      "Processing Record 416 of Set San Jerónimo\n",
      "Processing Record 417 of Set Tekeli\n",
      "Processing Record 418 of Set Hobyo\n",
      "Processing Record 419 of Set Mananara\n",
      "Processing Record 420 of Set Radaur\n",
      "Processing Record 421 of Set La Libertad\n",
      "Processing Record 422 of Set Kushiro\n",
      "Processing Record 423 of Set Porto-Novo\n",
      "Processing Record 424 of Set Taft\n",
      "Processing Record 425 of Set Cidreira\n",
      "Processing Record 426 of Set Kaitangata\n",
      "Processing Record 427 of Set Gambiran\n",
      "Processing Record 428 of Set Owando\n",
      "Processing Record 429 of Set Guangyuan\n",
      "Processing Record 430 of Set Necochea\n",
      "Processing Record 431 of Set Siniscola\n",
      "City not found. Skipping...\n",
      "Processing Record 432 of Set Lebanon\n",
      "Processing Record 433 of Set Mahébourg\n",
      "Processing Record 434 of Set Araçuaí\n",
      "Processing Record 435 of Set Kontagora\n",
      "Processing Record 436 of Set Hastings\n",
      "Processing Record 437 of Set Staicele\n",
      "Processing Record 438 of Set Fenyi\n",
      "Processing Record 439 of Set Warri\n",
      "Processing Record 440 of Set Aklavik\n",
      "Processing Record 441 of Set Maragogi\n",
      "Processing Record 442 of Set Rovaniemi\n",
      "Processing Record 443 of Set Lyuban'\n",
      "Processing Record 444 of Set Honchō\n",
      "Processing Record 445 of Set Paamiut\n",
      "Processing Record 446 of Set Lavrentiya\n",
      "Processing Record 447 of Set Shagonar\n",
      "Processing Record 448 of Set Bosansko Grahovo\n",
      "Processing Record 449 of Set Sujiatun\n",
      "Processing Record 450 of Set Valle Hermoso\n",
      "Processing Record 451 of Set Elliot\n",
      "Processing Record 452 of Set Ninghai\n",
      "Processing Record 453 of Set Paita\n",
      "Processing Record 454 of Set Sisimiut\n",
      "Processing Record 455 of Set Belyy Yar\n",
      "Processing Record 456 of Set Manakara\n",
      "Processing Record 457 of Set Kangundo\n",
      "Processing Record 458 of Set Poya\n",
      "Processing Record 459 of Set Vitim\n",
      "Processing Record 460 of Set Assaí\n",
      "Processing Record 461 of Set Caravelas\n",
      "Processing Record 462 of Set Honningsvåg\n",
      "Processing Record 463 of Set Asău\n",
      "Processing Record 464 of Set Salalah\n",
      "City not found. Skipping...\n",
      "Processing Record 465 of Set Araguaçu\n",
      "Processing Record 466 of Set St. George's\n",
      "Processing Record 467 of Set Bonavista\n",
      "Processing Record 468 of Set Coxim\n",
      "Processing Record 469 of Set Lüderitz\n",
      "Processing Record 470 of Set Tyrma\n",
      "Processing Record 471 of Set Pekan\n",
      "Processing Record 472 of Set Tankhoy\n",
      "Processing Record 473 of Set Mbini\n",
      "Processing Record 474 of Set Neiafu\n",
      "Processing Record 475 of Set Carora\n",
      "Processing Record 476 of Set Ivolginsk\n",
      "Processing Record 477 of Set Jodiya\n",
      "Processing Record 478 of Set Walvis Bay\n",
      "Processing Record 479 of Set Codrington\n",
      "Processing Record 480 of Set Havre-St-Pierre\n",
      "Processing Record 481 of Set Atbasar\n",
      "Processing Record 482 of Set Manbij\n",
      "Processing Record 483 of Set Dhārchula\n",
      "Processing Record 484 of Set Nola\n",
      "Processing Record 485 of Set Atambua\n",
      "Processing Record 486 of Set Shenyang\n",
      "Processing Record 487 of Set Kyrylivka\n",
      "Processing Record 488 of Set Smithers\n",
      "City not found. Skipping...\n",
      "Processing Record 489 of Set Guerrero Negro\n",
      "Processing Record 490 of Set Georgiyevka\n",
      "Processing Record 491 of Set Presidente Dutra\n",
      "Processing Record 492 of Set Chimbote\n",
      "Processing Record 493 of Set Pomichna\n",
      "Processing Record 494 of Set Dvinskoy Bereznik\n",
      "Processing Record 495 of Set Zaysan\n",
      "Processing Record 496 of Set Pontes e Lacerda\n",
      "Processing Record 497 of Set Xining\n",
      "City not found. Skipping...\n",
      "Processing Record 498 of Set Yumen\n",
      "Processing Record 499 of Set Makokou\n",
      "Processing Record 500 of Set Chenghai\n",
      "City not found. Skipping...\n",
      "City not found. Skipping...\n",
      "Processing Record 501 of Set Khudumelapye\n",
      "Processing Record 502 of Set Makkah al Mukarramah\n",
      "Processing Record 503 of Set Praia\n",
      "Processing Record 504 of Set Antalaha\n",
      "Processing Record 505 of Set Nālūt\n",
      "City not found. Skipping...\n",
      "Processing Record 506 of Set Umm Hājar\n",
      "City not found. Skipping...\n",
      "Processing Record 507 of Set Ayan\n",
      "Processing Record 508 of Set Flin Flon\n",
      "Processing Record 509 of Set Constitución\n",
      "Processing Record 510 of Set Nelson Bay\n",
      "Processing Record 511 of Set College\n",
      "Processing Record 512 of Set Dodge City\n",
      "Processing Record 513 of Set Adrar\n",
      "Processing Record 514 of Set Coyhaique\n",
      "City not found. Skipping...\n",
      "Processing Record 515 of Set Rocha\n",
      "Processing Record 516 of Set Mahbūbābād\n",
      "Processing Record 517 of Set Diamantino\n",
      "Processing Record 518 of Set Kailua\n",
      "City not found. Skipping...\n",
      "Processing Record 519 of Set Bukama\n",
      "Processing Record 520 of Set Ixtapa\n",
      "Processing Record 521 of Set Mocuba\n",
      "Processing Record 522 of Set Øksfjord\n",
      "Processing Record 523 of Set Mahabalipuram\n",
      "Processing Record 524 of Set Verāval\n",
      "Processing Record 525 of Set Huntsville\n",
      "Processing Record 526 of Set Plácido de Castro\n",
      "Processing Record 527 of Set Olafsvik\n",
      "Processing Record 528 of Set Chiredzi\n",
      "Processing Record 529 of Set Pretoria\n",
      "Processing Record 530 of Set Mumford\n",
      "Processing Record 531 of Set Antofagasta\n",
      "Processing Record 532 of Set Flagstaff\n",
      "Processing Record 533 of Set Eilat\n",
      "Processing Record 534 of Set Kīl Bhuvanagiri\n",
      "Processing Record 535 of Set Pakxan\n",
      "City not found. Skipping...\n",
      "Processing Record 536 of Set Pechora\n",
      "Processing Record 537 of Set Le Robert\n",
      "Processing Record 538 of Set Huarmey\n",
      "Processing Record 539 of Set Santa Cruz de La Palma\n",
      "Processing Record 540 of Set Yar-Sale\n",
      "Processing Record 541 of Set Yanji\n",
      "City not found. Skipping...\n",
      "Processing Record 542 of Set Pangkalanbuun\n",
      "Processing Record 543 of Set Hyères\n",
      "City not found. Skipping...\n",
      "Processing Record 544 of Set Odesa\n",
      "Processing Record 545 of Set Kansanshi\n",
      "Processing Record 546 of Set Brae\n",
      "Processing Record 547 of Set Mackenzie\n",
      "Processing Record 548 of Set Hermosillo\n",
      "Processing Record 549 of Set Garissa\n",
      "Processing Record 550 of Set Sakakah\n",
      "Processing Record 551 of Set Lompoc\n",
      "Processing Record 552 of Set Huilong\n",
      "City not found. Skipping...\n",
      "Processing Record 553 of Set North Bend\n",
      "Processing Record 554 of Set São Miguel do Araguaia\n",
      "City not found. Skipping...\n",
      "Processing Record 555 of Set Bulolo\n",
      "Processing Record 556 of Set Qandala\n",
      "Processing Record 557 of Set Forsytheganj\n",
      "Processing Record 558 of Set Thunder Bay\n",
      "Processing Record 559 of Set Cayenne\n",
      "-------------------------------\n",
      "Data Retrieval Complete\n",
      "-------------------------------\n"
     ]
    }
   ],
   "source": [
    "#Loop through all cities getting the necessary information\n",
    "city_name=[]\n",
    "latitude=[]\n",
    "longitude=[]\n",
    "humidity=[]\n",
    "cloudiness=[]\n",
    "wind=[]\n",
    "country=[]\n",
    "date=[]\n",
    "max_temp=[]\n",
    "#Start counter\n",
    "counter=1\n",
    "#Print beginning of log\n",
    "print(\"Beginning Data Retrieval\")\n",
    "print(\"--------------------------\")\n",
    "#Start a loop to get all informaiton\n",
    "for city in cities:\n",
    "    \n",
    "    try:\n",
    "        response = requests.get(query_url + city).json()\n",
    "        city_name.append(response[\"name\"])\n",
    "        latitude.append(response[\"coord\"][\"lat\"])\n",
    "        longitude.append(response[\"coord\"][\"lon\"])\n",
    "        humidity.append(response[\"main\"][\"humidity\"])\n",
    "        cloudiness.append(response[\"clouds\"][\"all\"])\n",
    "        wind.append(response[\"wind\"][\"speed\"])\n",
    "        country.append(response[\"sys\"][\"country\"])\n",
    "        max_temp.append(response[\"main\"][\"temp_max\"])\n",
    "        date.append(response[\"dt\"])\n",
    "        city_counter=response[\"name\"]\n",
    "        print(f\"Processing Record {counter} of Set {city_counter}\")\n",
    "        counter = counter + 1\n",
    "    except:\n",
    "        print(\"City not found. Skipping...\") \n",
    "    continue\n",
    "\n",
    "print(f\"-------------------------------\")\n",
    "print(f\"Data Retrieval Complete\")\n",
    "print(f\"-------------------------------\")"
   ]
  },
  {
   "cell_type": "markdown",
   "metadata": {},
   "source": [
    "### Convert Raw Data to DataFrame\n",
    "* Export the city data into a .csv.\n",
    "* Display the DataFrame"
   ]
  },
  {
   "cell_type": "code",
   "execution_count": 6,
   "metadata": {},
   "outputs": [
    {
     "data": {
      "text/html": [
       "<div>\n",
       "<style scoped>\n",
       "    .dataframe tbody tr th:only-of-type {\n",
       "        vertical-align: middle;\n",
       "    }\n",
       "\n",
       "    .dataframe tbody tr th {\n",
       "        vertical-align: top;\n",
       "    }\n",
       "\n",
       "    .dataframe thead th {\n",
       "        text-align: right;\n",
       "    }\n",
       "</style>\n",
       "<table border=\"1\" class=\"dataframe\">\n",
       "  <thead>\n",
       "    <tr style=\"text-align: right;\">\n",
       "      <th></th>\n",
       "      <th>City</th>\n",
       "      <th>Lat</th>\n",
       "      <th>Lng</th>\n",
       "      <th>Max Temp</th>\n",
       "      <th>Humidity</th>\n",
       "      <th>Cloudiness</th>\n",
       "      <th>Wind Speed</th>\n",
       "      <th>Country</th>\n",
       "      <th>Date</th>\n",
       "    </tr>\n",
       "  </thead>\n",
       "  <tbody>\n",
       "    <tr>\n",
       "      <th>0</th>\n",
       "      <td>Buala</td>\n",
       "      <td>-8.1450</td>\n",
       "      <td>159.5921</td>\n",
       "      <td>77.68</td>\n",
       "      <td>89</td>\n",
       "      <td>100</td>\n",
       "      <td>4.99</td>\n",
       "      <td>SB</td>\n",
       "      <td>1612435814</td>\n",
       "    </tr>\n",
       "    <tr>\n",
       "      <th>1</th>\n",
       "      <td>Yellowknife</td>\n",
       "      <td>62.4560</td>\n",
       "      <td>-114.3525</td>\n",
       "      <td>-23.01</td>\n",
       "      <td>76</td>\n",
       "      <td>90</td>\n",
       "      <td>10.36</td>\n",
       "      <td>CA</td>\n",
       "      <td>1612435742</td>\n",
       "    </tr>\n",
       "    <tr>\n",
       "      <th>2</th>\n",
       "      <td>Kondinskoye</td>\n",
       "      <td>59.6481</td>\n",
       "      <td>67.4100</td>\n",
       "      <td>9.34</td>\n",
       "      <td>95</td>\n",
       "      <td>100</td>\n",
       "      <td>5.70</td>\n",
       "      <td>RU</td>\n",
       "      <td>1612435814</td>\n",
       "    </tr>\n",
       "    <tr>\n",
       "      <th>3</th>\n",
       "      <td>Lázaro Cárdenas</td>\n",
       "      <td>17.9583</td>\n",
       "      <td>-102.2000</td>\n",
       "      <td>72.27</td>\n",
       "      <td>85</td>\n",
       "      <td>53</td>\n",
       "      <td>3.83</td>\n",
       "      <td>MX</td>\n",
       "      <td>1612435814</td>\n",
       "    </tr>\n",
       "    <tr>\n",
       "      <th>4</th>\n",
       "      <td>Kapaa</td>\n",
       "      <td>22.0752</td>\n",
       "      <td>-159.3190</td>\n",
       "      <td>64.00</td>\n",
       "      <td>77</td>\n",
       "      <td>90</td>\n",
       "      <td>5.75</td>\n",
       "      <td>US</td>\n",
       "      <td>1612435814</td>\n",
       "    </tr>\n",
       "  </tbody>\n",
       "</table>\n",
       "</div>"
      ],
      "text/plain": [
       "              City      Lat       Lng  Max Temp  Humidity  Cloudiness  \\\n",
       "0            Buala  -8.1450  159.5921     77.68        89         100   \n",
       "1      Yellowknife  62.4560 -114.3525    -23.01        76          90   \n",
       "2      Kondinskoye  59.6481   67.4100      9.34        95         100   \n",
       "3  Lázaro Cárdenas  17.9583 -102.2000     72.27        85          53   \n",
       "4            Kapaa  22.0752 -159.3190     64.00        77          90   \n",
       "\n",
       "   Wind Speed Country        Date  \n",
       "0        4.99      SB  1612435814  \n",
       "1       10.36      CA  1612435742  \n",
       "2        5.70      RU  1612435814  \n",
       "3        3.83      MX  1612435814  \n",
       "4        5.75      US  1612435814  "
      ]
     },
     "execution_count": 6,
     "metadata": {},
     "output_type": "execute_result"
    }
   ],
   "source": [
    "#Create a dictionary to hold all the data in a dataframe\n",
    "weather_data = {\n",
    "    \"City\": city_name,\n",
    "    \"Lat\": latitude,\n",
    "    \"Lng\": longitude,\n",
    "    \"Max Temp\":max_temp,\n",
    "    \"Humidity\":humidity,\n",
    "    \"Cloudiness\":cloudiness,\n",
    "    \"Wind Speed\":wind,\n",
    "    \"Country\":country,\n",
    "    \"Date\":date\n",
    "}\n",
    "weather_final = pd.DataFrame(weather_data)\n",
    "weather_final.head()"
   ]
  },
  {
   "cell_type": "code",
   "execution_count": 7,
   "metadata": {},
   "outputs": [],
   "source": [
    "#Export the data into a csv file\n",
    "weather_final.to_csv(\"../output_data/cities.csv\", index=False, header=True)"
   ]
  },
  {
   "cell_type": "code",
   "execution_count": 8,
   "metadata": {},
   "outputs": [
    {
     "data": {
      "text/html": [
       "<div>\n",
       "<style scoped>\n",
       "    .dataframe tbody tr th:only-of-type {\n",
       "        vertical-align: middle;\n",
       "    }\n",
       "\n",
       "    .dataframe tbody tr th {\n",
       "        vertical-align: top;\n",
       "    }\n",
       "\n",
       "    .dataframe thead th {\n",
       "        text-align: right;\n",
       "    }\n",
       "</style>\n",
       "<table border=\"1\" class=\"dataframe\">\n",
       "  <thead>\n",
       "    <tr style=\"text-align: right;\">\n",
       "      <th></th>\n",
       "      <th>Lat</th>\n",
       "      <th>Lng</th>\n",
       "      <th>Max Temp</th>\n",
       "      <th>Humidity</th>\n",
       "      <th>Cloudiness</th>\n",
       "      <th>Wind Speed</th>\n",
       "      <th>Date</th>\n",
       "    </tr>\n",
       "  </thead>\n",
       "  <tbody>\n",
       "    <tr>\n",
       "      <th>count</th>\n",
       "      <td>559.000000</td>\n",
       "      <td>559.000000</td>\n",
       "      <td>559.000000</td>\n",
       "      <td>559.000000</td>\n",
       "      <td>559.000000</td>\n",
       "      <td>559.000000</td>\n",
       "      <td>5.590000e+02</td>\n",
       "    </tr>\n",
       "    <tr>\n",
       "      <th>mean</th>\n",
       "      <td>19.805845</td>\n",
       "      <td>17.149888</td>\n",
       "      <td>52.456780</td>\n",
       "      <td>71.110912</td>\n",
       "      <td>53.518784</td>\n",
       "      <td>8.230537</td>\n",
       "      <td>1.612436e+09</td>\n",
       "    </tr>\n",
       "    <tr>\n",
       "      <th>std</th>\n",
       "      <td>32.892679</td>\n",
       "      <td>91.090735</td>\n",
       "      <td>32.734254</td>\n",
       "      <td>21.566648</td>\n",
       "      <td>39.439159</td>\n",
       "      <td>5.982336</td>\n",
       "      <td>5.988774e+01</td>\n",
       "    </tr>\n",
       "    <tr>\n",
       "      <th>min</th>\n",
       "      <td>-54.800000</td>\n",
       "      <td>-179.166700</td>\n",
       "      <td>-50.800000</td>\n",
       "      <td>9.000000</td>\n",
       "      <td>0.000000</td>\n",
       "      <td>0.560000</td>\n",
       "      <td>1.612435e+09</td>\n",
       "    </tr>\n",
       "    <tr>\n",
       "      <th>25%</th>\n",
       "      <td>-7.256350</td>\n",
       "      <td>-62.535150</td>\n",
       "      <td>30.425000</td>\n",
       "      <td>61.000000</td>\n",
       "      <td>11.000000</td>\n",
       "      <td>3.725000</td>\n",
       "      <td>1.612436e+09</td>\n",
       "    </tr>\n",
       "    <tr>\n",
       "      <th>50%</th>\n",
       "      <td>23.463200</td>\n",
       "      <td>21.511300</td>\n",
       "      <td>64.400000</td>\n",
       "      <td>77.000000</td>\n",
       "      <td>63.000000</td>\n",
       "      <td>6.910000</td>\n",
       "      <td>1.612436e+09</td>\n",
       "    </tr>\n",
       "    <tr>\n",
       "      <th>75%</th>\n",
       "      <td>46.961050</td>\n",
       "      <td>100.080200</td>\n",
       "      <td>77.960000</td>\n",
       "      <td>86.500000</td>\n",
       "      <td>91.500000</td>\n",
       "      <td>10.970000</td>\n",
       "      <td>1.612436e+09</td>\n",
       "    </tr>\n",
       "    <tr>\n",
       "      <th>max</th>\n",
       "      <td>78.218600</td>\n",
       "      <td>179.316700</td>\n",
       "      <td>111.720000</td>\n",
       "      <td>100.000000</td>\n",
       "      <td>100.000000</td>\n",
       "      <td>35.300000</td>\n",
       "      <td>1.612436e+09</td>\n",
       "    </tr>\n",
       "  </tbody>\n",
       "</table>\n",
       "</div>"
      ],
      "text/plain": [
       "              Lat         Lng    Max Temp    Humidity  Cloudiness  Wind Speed  \\\n",
       "count  559.000000  559.000000  559.000000  559.000000  559.000000  559.000000   \n",
       "mean    19.805845   17.149888   52.456780   71.110912   53.518784    8.230537   \n",
       "std     32.892679   91.090735   32.734254   21.566648   39.439159    5.982336   \n",
       "min    -54.800000 -179.166700  -50.800000    9.000000    0.000000    0.560000   \n",
       "25%     -7.256350  -62.535150   30.425000   61.000000   11.000000    3.725000   \n",
       "50%     23.463200   21.511300   64.400000   77.000000   63.000000    6.910000   \n",
       "75%     46.961050  100.080200   77.960000   86.500000   91.500000   10.970000   \n",
       "max     78.218600  179.316700  111.720000  100.000000  100.000000   35.300000   \n",
       "\n",
       "               Date  \n",
       "count  5.590000e+02  \n",
       "mean   1.612436e+09  \n",
       "std    5.988774e+01  \n",
       "min    1.612435e+09  \n",
       "25%    1.612436e+09  \n",
       "50%    1.612436e+09  \n",
       "75%    1.612436e+09  \n",
       "max    1.612436e+09  "
      ]
     },
     "execution_count": 8,
     "metadata": {},
     "output_type": "execute_result"
    }
   ],
   "source": [
    "weather_final.describe()"
   ]
  },
  {
   "cell_type": "markdown",
   "metadata": {},
   "source": [
    "## Inspect the data and remove the cities where the humidity > 100%.\n",
    "----\n",
    "Skip this step if there are no cities that have humidity > 100%. "
   ]
  },
  {
   "cell_type": "code",
   "execution_count": 9,
   "metadata": {},
   "outputs": [
    {
     "data": {
      "text/html": [
       "<div>\n",
       "<style scoped>\n",
       "    .dataframe tbody tr th:only-of-type {\n",
       "        vertical-align: middle;\n",
       "    }\n",
       "\n",
       "    .dataframe tbody tr th {\n",
       "        vertical-align: top;\n",
       "    }\n",
       "\n",
       "    .dataframe thead th {\n",
       "        text-align: right;\n",
       "    }\n",
       "</style>\n",
       "<table border=\"1\" class=\"dataframe\">\n",
       "  <thead>\n",
       "    <tr style=\"text-align: right;\">\n",
       "      <th></th>\n",
       "      <th>City</th>\n",
       "      <th>Lat</th>\n",
       "      <th>Lng</th>\n",
       "      <th>Max Temp</th>\n",
       "      <th>Humidity</th>\n",
       "      <th>Cloudiness</th>\n",
       "      <th>Wind Speed</th>\n",
       "      <th>Country</th>\n",
       "      <th>Date</th>\n",
       "    </tr>\n",
       "  </thead>\n",
       "  <tbody>\n",
       "  </tbody>\n",
       "</table>\n",
       "</div>"
      ],
      "text/plain": [
       "Empty DataFrame\n",
       "Columns: [City, Lat, Lng, Max Temp, Humidity, Cloudiness, Wind Speed, Country, Date]\n",
       "Index: []"
      ]
     },
     "execution_count": 9,
     "metadata": {},
     "output_type": "execute_result"
    }
   ],
   "source": [
    "humidity = weather_final.loc[weather_final[\"Humidity\"] > 100]\n",
    "humidity"
   ]
  },
  {
   "cell_type": "code",
   "execution_count": 10,
   "metadata": {},
   "outputs": [
    {
     "data": {
      "text/html": [
       "<div>\n",
       "<style scoped>\n",
       "    .dataframe tbody tr th:only-of-type {\n",
       "        vertical-align: middle;\n",
       "    }\n",
       "\n",
       "    .dataframe tbody tr th {\n",
       "        vertical-align: top;\n",
       "    }\n",
       "\n",
       "    .dataframe thead th {\n",
       "        text-align: right;\n",
       "    }\n",
       "</style>\n",
       "<table border=\"1\" class=\"dataframe\">\n",
       "  <thead>\n",
       "    <tr style=\"text-align: right;\">\n",
       "      <th></th>\n",
       "      <th>Lat</th>\n",
       "      <th>Lng</th>\n",
       "      <th>Max Temp</th>\n",
       "      <th>Humidity</th>\n",
       "      <th>Cloudiness</th>\n",
       "      <th>Wind Speed</th>\n",
       "      <th>Date</th>\n",
       "    </tr>\n",
       "  </thead>\n",
       "  <tbody>\n",
       "    <tr>\n",
       "      <th>count</th>\n",
       "      <td>559.000000</td>\n",
       "      <td>559.000000</td>\n",
       "      <td>559.000000</td>\n",
       "      <td>559.000000</td>\n",
       "      <td>559.000000</td>\n",
       "      <td>559.000000</td>\n",
       "      <td>5.590000e+02</td>\n",
       "    </tr>\n",
       "    <tr>\n",
       "      <th>mean</th>\n",
       "      <td>19.805845</td>\n",
       "      <td>17.149888</td>\n",
       "      <td>52.456780</td>\n",
       "      <td>71.110912</td>\n",
       "      <td>53.518784</td>\n",
       "      <td>8.230537</td>\n",
       "      <td>1.612436e+09</td>\n",
       "    </tr>\n",
       "    <tr>\n",
       "      <th>std</th>\n",
       "      <td>32.892679</td>\n",
       "      <td>91.090735</td>\n",
       "      <td>32.734254</td>\n",
       "      <td>21.566648</td>\n",
       "      <td>39.439159</td>\n",
       "      <td>5.982336</td>\n",
       "      <td>5.988774e+01</td>\n",
       "    </tr>\n",
       "    <tr>\n",
       "      <th>min</th>\n",
       "      <td>-54.800000</td>\n",
       "      <td>-179.166700</td>\n",
       "      <td>-50.800000</td>\n",
       "      <td>9.000000</td>\n",
       "      <td>0.000000</td>\n",
       "      <td>0.560000</td>\n",
       "      <td>1.612435e+09</td>\n",
       "    </tr>\n",
       "    <tr>\n",
       "      <th>25%</th>\n",
       "      <td>-7.256350</td>\n",
       "      <td>-62.535150</td>\n",
       "      <td>30.425000</td>\n",
       "      <td>61.000000</td>\n",
       "      <td>11.000000</td>\n",
       "      <td>3.725000</td>\n",
       "      <td>1.612436e+09</td>\n",
       "    </tr>\n",
       "    <tr>\n",
       "      <th>50%</th>\n",
       "      <td>23.463200</td>\n",
       "      <td>21.511300</td>\n",
       "      <td>64.400000</td>\n",
       "      <td>77.000000</td>\n",
       "      <td>63.000000</td>\n",
       "      <td>6.910000</td>\n",
       "      <td>1.612436e+09</td>\n",
       "    </tr>\n",
       "    <tr>\n",
       "      <th>75%</th>\n",
       "      <td>46.961050</td>\n",
       "      <td>100.080200</td>\n",
       "      <td>77.960000</td>\n",
       "      <td>86.500000</td>\n",
       "      <td>91.500000</td>\n",
       "      <td>10.970000</td>\n",
       "      <td>1.612436e+09</td>\n",
       "    </tr>\n",
       "    <tr>\n",
       "      <th>max</th>\n",
       "      <td>78.218600</td>\n",
       "      <td>179.316700</td>\n",
       "      <td>111.720000</td>\n",
       "      <td>100.000000</td>\n",
       "      <td>100.000000</td>\n",
       "      <td>35.300000</td>\n",
       "      <td>1.612436e+09</td>\n",
       "    </tr>\n",
       "  </tbody>\n",
       "</table>\n",
       "</div>"
      ],
      "text/plain": [
       "              Lat         Lng    Max Temp    Humidity  Cloudiness  Wind Speed  \\\n",
       "count  559.000000  559.000000  559.000000  559.000000  559.000000  559.000000   \n",
       "mean    19.805845   17.149888   52.456780   71.110912   53.518784    8.230537   \n",
       "std     32.892679   91.090735   32.734254   21.566648   39.439159    5.982336   \n",
       "min    -54.800000 -179.166700  -50.800000    9.000000    0.000000    0.560000   \n",
       "25%     -7.256350  -62.535150   30.425000   61.000000   11.000000    3.725000   \n",
       "50%     23.463200   21.511300   64.400000   77.000000   63.000000    6.910000   \n",
       "75%     46.961050  100.080200   77.960000   86.500000   91.500000   10.970000   \n",
       "max     78.218600  179.316700  111.720000  100.000000  100.000000   35.300000   \n",
       "\n",
       "               Date  \n",
       "count  5.590000e+02  \n",
       "mean   1.612436e+09  \n",
       "std    5.988774e+01  \n",
       "min    1.612435e+09  \n",
       "25%    1.612436e+09  \n",
       "50%    1.612436e+09  \n",
       "75%    1.612436e+09  \n",
       "max    1.612436e+09  "
      ]
     },
     "execution_count": 10,
     "metadata": {},
     "output_type": "execute_result"
    }
   ],
   "source": [
    "#  Get the indices of cities that have humidity over 100%.\n",
    "weather_final.describe()"
   ]
  },
  {
   "cell_type": "code",
   "execution_count": 11,
   "metadata": {},
   "outputs": [],
   "source": [
    "# Make a new DataFrame equal to the city data to drop all humidity outliers by index.\n",
    "# Passing \"inplace=False\" will make a copy of the city_data DataFrame, which we call \"clean_city_data\".\n"
   ]
  },
  {
   "cell_type": "code",
   "execution_count": null,
   "metadata": {},
   "outputs": [],
   "source": [
    "\n"
   ]
  },
  {
   "cell_type": "markdown",
   "metadata": {},
   "source": [
    "## Plotting the Data\n",
    "* Use proper labeling of the plots using plot titles (including date of analysis) and axes labels.\n",
    "* Save the plotted figures as .pngs."
   ]
  },
  {
   "cell_type": "markdown",
   "metadata": {},
   "source": [
    "## Latitude vs. Temperature Plot"
   ]
  },
  {
   "cell_type": "code",
   "execution_count": 67,
   "metadata": {
    "scrolled": true
   },
   "outputs": [
    {
     "data": {
      "image/png": "[encoded data removed]",
      "text/plain": [
       "<Figure size 432x288 with 1 Axes>"
      ]
     },
     "metadata": {
      "needs_background": "light"
     },
     "output_type": "display_data"
    }
   ],
   "source": [
    "latitude = weather_final[\"Lat\"]\n",
    "temp = weather_final[\"Max Temp\"]\n",
    "plt.scatter(latitude, temp, marker=\"o\", facecolors=\"blue\", edgecolors=\"black\",\n",
    "            )\n",
    "plt.title(\"City Latitude versus Max Temperature (02/03/2021)\")\n",
    "plt.ylabel(\"Max Temperature (F)\")\n",
    "plt.xlabel(\"Latitude\")\n",
    "\n",
    "plt.savefig(\"../output_data/Fig1.png\")"
   ]
  },
  {
   "cell_type": "markdown",
   "metadata": {},
   "source": [
    "## Latitude vs. Humidity Plot"
   ]
  },
  {
   "cell_type": "code",
   "execution_count": 66,
   "metadata": {},
   "outputs": [
    {
     "data": {
      "image/png": "[encoded data removed]",
      "text/plain": [
       "<Figure size 432x288 with 1 Axes>"
      ]
     },
     "metadata": {
      "needs_background": "light"
     },
     "output_type": "display_data"
    }
   ],
   "source": [
    "latitude = weather_final[\"Lat\"]\n",
    "humidity = weather_final[\"Humidity\"]\n",
    "plt.scatter(latitude, humidity, marker=\"o\", facecolors=\"blue\", edgecolors=\"black\",\n",
    "            )\n",
    "plt.title(\"City Latitude versus Humidity (02/03/2021)\")\n",
    "plt.ylabel(\"Humidity(%)\")\n",
    "plt.xlabel(\"Latitude\")\n",
    "\n",
    "plt.savefig(\"../output_data/Fig2.png\")"
   ]
  },
  {
   "cell_type": "markdown",
   "metadata": {},
   "source": [
    "## Latitude vs. Cloudiness Plot"
   ]
  },
  {
   "cell_type": "code",
   "execution_count": 68,
   "metadata": {},
   "outputs": [
    {
     "data": {
      "image/png": "[encoded data removed]",
      "text/plain": [
       "<Figure size 432x288 with 1 Axes>"
      ]
     },
     "metadata": {
      "needs_background": "light"
     },
     "output_type": "display_data"
    }
   ],
   "source": [
    "latitude = weather_final[\"Lat\"]\n",
    "cloudiness = weather_final[\"Cloudiness\"]\n",
    "plt.scatter(latitude, cloudiness, marker=\"o\", facecolors=\"blue\", edgecolors=\"black\",\n",
    "            )\n",
    "plt.title(\"City Latitude versus Cloudiness (02/03/2021)\")\n",
    "plt.ylabel(\"Cloudiness (%)\")\n",
    "plt.xlabel(\"Latitude\")\n",
    "\n",
    "plt.savefig(\"../output_data/Fig3.png\")"
   ]
  },
  {
   "cell_type": "markdown",
   "metadata": {},
   "source": [
    "## Latitude vs. Wind Speed Plot"
   ]
  },
  {
   "cell_type": "code",
   "execution_count": 69,
   "metadata": {},
   "outputs": [
    {
     "data": {
      "image/png": "[encoded data removed]",
      "text/plain": [
       "<Figure size 432x288 with 1 Axes>"
      ]
     },
     "metadata": {
      "needs_background": "light"
     },
     "output_type": "display_data"
    }
   ],
   "source": [
    "latitude = weather_final[\"Lat\"]\n",
    "wind = weather_final[\"Wind Speed\"]\n",
    "plt.scatter(latitude, wind, marker=\"o\", facecolors=\"blue\", edgecolors=\"black\",\n",
    "            )\n",
    "plt.title(\"City Latitude versus Wind Speed (02/03/2021)\")\n",
    "plt.ylabel(\"Wind Speed (mph)\")\n",
    "plt.xlabel(\"Latitude\")\n",
    "\n",
    "plt.savefig(\"../output_data/Fig4.png\")"
   ]
  },
  {
   "cell_type": "markdown",
   "metadata": {},
   "source": [
    "## Linear Regression"
   ]
  },
  {
   "cell_type": "code",
   "execution_count": 54,
   "metadata": {},
   "outputs": [],
   "source": [
    "northern_hem=weather_final.loc[weather_final[\"Lat\"]>=0.0]\n",
    "southern_hem=weather_final.loc[weather_final[\"Lat\"]<0.0]"
   ]
  },
  {
   "cell_type": "markdown",
   "metadata": {},
   "source": [
    "####  Northern Hemisphere - Max Temp vs. Latitude Linear Regression"
   ]
  },
  {
   "cell_type": "code",
   "execution_count": 71,
   "metadata": {},
   "outputs": [
    {
     "name": "stdout",
     "output_type": "stream",
     "text": [
      "The r value is: -0.8763712703861579\n"
     ]
    },
    {
     "data": {
      "image/png": "[encoded data removed]",
      "text/plain": [
       "<Figure size 432x288 with 1 Axes>"
      ]
     },
     "metadata": {
      "needs_background": "light"
     },
     "output_type": "display_data"
    }
   ],
   "source": [
    "x_values = northern_hem[\"Lat\"]\n",
    "y_values = northern_hem[\"Max Temp\"]\n",
    "(slope, intercept, rvalue, pvalue, stderr) = linregress(x_values, y_values)\n",
    "print(f\"The r value is: {rvalue}\")\n",
    "regress_values = x_values * slope + intercept\n",
    "line_eq = \"y = \" + str(round(slope,2)) + \"x + \" + str(round(intercept,2))\n",
    "plt.scatter(x_values,y_values)\n",
    "plt.plot(x_values,regress_values,\"r-\")\n",
    "plt.annotate(line_eq,(0,-40),fontsize=15,color=\"red\")\n",
    "plt.xlabel(\"Latitude\")\n",
    "plt.ylabel(\"Max Temp (F)\")\n",
    "plt.title(\"Northern Hemisphere - Max Temp vs. Latitude Linear Regression (02/03/2021)\")\n",
    "plt.show()"
   ]
  },
  {
   "cell_type": "markdown",
   "metadata": {},
   "source": [
    "####  Southern Hemisphere - Max Temp vs. Latitude Linear Regression"
   ]
  },
  {
   "cell_type": "code",
   "execution_count": 70,
   "metadata": {},
   "outputs": [
    {
     "name": "stdout",
     "output_type": "stream",
     "text": [
      "The r value is: 0.5386852978311982\n"
     ]
    },
    {
     "data": {
      "image/png": "[encoded data removed]",
      "text/plain": [
       "<Figure size 432x288 with 1 Axes>"
      ]
     },
     "metadata": {
      "needs_background": "light"
     },
     "output_type": "display_data"
    }
   ],
   "source": [
    "x_values = southern_hem[\"Lat\"]\n",
    "y_values = southern_hem[\"Max Temp\"]\n",
    "(slope, intercept, rvalue, pvalue, stderr) = linregress(x_values, y_values)\n",
    "print(f\"The r value is: {rvalue}\")\n",
    "regress_values = x_values * slope + intercept\n",
    "line_eq = \"y = \" + str(round(slope,2)) + \"x + \" + str(round(intercept,2))\n",
    "plt.scatter(x_values,y_values)\n",
    "plt.plot(x_values,regress_values,\"r-\")\n",
    "plt.annotate(line_eq,(-55,90),fontsize=15,color=\"red\")\n",
    "plt.xlabel(\"Latitude\")\n",
    "plt.ylabel(\"Max Temp (F)\")\n",
    "plt.title(\"Southern Hemisphere - Max Temp vs. Latitude Linear Regression (02/03/2021)\")\n",
    "plt.show()"
   ]
  },
  {
   "cell_type": "markdown",
   "metadata": {},
   "source": [
    "####  Northern Hemisphere - Humidity (%) vs. Latitude Linear Regression"
   ]
  },
  {
   "cell_type": "code",
   "execution_count": 72,
   "metadata": {},
   "outputs": [
    {
     "name": "stdout",
     "output_type": "stream",
     "text": [
      "The r value is: 0.42895700116767776\n"
     ]
    },
    {
     "data": {
      "image/png": "[encoded data removed]",
      "text/plain": [
       "<Figure size 432x288 with 1 Axes>"
      ]
     },
     "metadata": {
      "needs_background": "light"
     },
     "output_type": "display_data"
    }
   ],
   "source": [
    "x_values = northern_hem[\"Lat\"]\n",
    "y_values = northern_hem[\"Humidity\"]\n",
    "(slope, intercept, rvalue, pvalue, stderr) = linregress(x_values, y_values)\n",
    "print(f\"The r value is: {rvalue}\")\n",
    "regress_values = x_values * slope + intercept\n",
    "line_eq = \"y = \" + str(round(slope,2)) + \"x + \" + str(round(intercept,2))\n",
    "plt.scatter(x_values,y_values)\n",
    "plt.plot(x_values,regress_values,\"r-\")\n",
    "plt.annotate(line_eq,(40,20),fontsize=15,color=\"red\")\n",
    "plt.xlabel(\"Latitude\")\n",
    "plt.ylabel(\"Humidity (%)\")\n",
    "plt.title(\"Northern Hemisphere - Humidity (%) vs. Latitude Linear Regression (02/03/2021)\")\n",
    "plt.show()"
   ]
  },
  {
   "cell_type": "markdown",
   "metadata": {},
   "source": [
    "####  Southern Hemisphere - Humidity (%) vs. Latitude Linear Regression"
   ]
  },
  {
   "cell_type": "code",
   "execution_count": 73,
   "metadata": {},
   "outputs": [
    {
     "name": "stdout",
     "output_type": "stream",
     "text": [
      "The r value is: 0.1773134002088629\n"
     ]
    },
    {
     "data": {
      "image/png": "[encoded data removed]",
      "text/plain": [
       "<Figure size 432x288 with 1 Axes>"
      ]
     },
     "metadata": {
      "needs_background": "light"
     },
     "output_type": "display_data"
    }
   ],
   "source": [
    "x_values = southern_hem[\"Lat\"]\n",
    "y_values = southern_hem[\"Humidity\"]\n",
    "(slope, intercept, rvalue, pvalue, stderr) = linregress(x_values, y_values)\n",
    "print(f\"The r value is: {rvalue}\")\n",
    "regress_values = x_values * slope + intercept\n",
    "line_eq = \"y = \" + str(round(slope,2)) + \"x + \" + str(round(intercept,2))\n",
    "plt.scatter(x_values,y_values)\n",
    "plt.plot(x_values,regress_values,\"r-\")\n",
    "plt.annotate(line_eq,(-50,40),fontsize=15,color=\"red\")\n",
    "plt.xlabel(\"Latitude\")\n",
    "plt.ylabel(\"Humidity (%)\")\n",
    "plt.title(\"Southern Hemisphere - Humidity (%) vs. Latitude Linear Regression (02/03/2021)\")\n",
    "plt.show()"
   ]
  },
  {
   "cell_type": "markdown",
   "metadata": {},
   "source": [
    "####  Northern Hemisphere - Cloudiness (%) vs. Latitude Linear Regression"
   ]
  },
  {
   "cell_type": "code",
   "execution_count": 74,
   "metadata": {},
   "outputs": [
    {
     "name": "stdout",
     "output_type": "stream",
     "text": [
      "The r value is: 0.2926489246081114\n"
     ]
    },
    {
     "data": {
      "image/png": "[encoded data removed]",
      "text/plain": [
       "<Figure size 432x288 with 1 Axes>"
      ]
     },
     "metadata": {
      "needs_background": "light"
     },
     "output_type": "display_data"
    }
   ],
   "source": [
    "x_values = northern_hem[\"Lat\"]\n",
    "y_values = northern_hem[\"Cloudiness\"]\n",
    "(slope, intercept, rvalue, pvalue, stderr) = linregress(x_values, y_values)\n",
    "print(f\"The r value is: {rvalue}\")\n",
    "regress_values = x_values * slope + intercept\n",
    "line_eq = \"y = \" + str(round(slope,2)) + \"x + \" + str(round(intercept,2))\n",
    "plt.scatter(x_values,y_values)\n",
    "plt.plot(x_values,regress_values,\"r-\")\n",
    "plt.annotate(line_eq,(40,40),fontsize=15,color=\"red\")\n",
    "plt.xlabel(\"Latitude\")\n",
    "plt.ylabel(\"Cloudiness (%)\")\n",
    "plt.title(\"Northern Hemisphere - Cloudiness (%) vs. Latitude Linear Regression (02/03/2021)\")\n",
    "plt.show()"
   ]
  },
  {
   "cell_type": "markdown",
   "metadata": {},
   "source": [
    "####  Southern Hemisphere - Cloudiness (%) vs. Latitude Linear Regression"
   ]
  },
  {
   "cell_type": "code",
   "execution_count": 75,
   "metadata": {},
   "outputs": [
    {
     "name": "stdout",
     "output_type": "stream",
     "text": [
      "The r value is: 0.3595511050034274\n"
     ]
    },
    {
     "data": {
      "image/png": "[encoded data removed]",
      "text/plain": [
       "<Figure size 432x288 with 1 Axes>"
      ]
     },
     "metadata": {
      "needs_background": "light"
     },
     "output_type": "display_data"
    }
   ],
   "source": [
    "x_values = southern_hem[\"Lat\"]\n",
    "y_values = southern_hem[\"Cloudiness\"]\n",
    "(slope, intercept, rvalue, pvalue, stderr) = linregress(x_values, y_values)\n",
    "print(f\"The r value is: {rvalue}\")\n",
    "regress_values = x_values * slope + intercept\n",
    "line_eq = \"y = \" + str(round(slope,2)) + \"x + \" + str(round(intercept,2))\n",
    "plt.scatter(x_values,y_values)\n",
    "plt.plot(x_values,regress_values,\"r-\")\n",
    "plt.annotate(line_eq,(-50,60),fontsize=15,color=\"red\")\n",
    "plt.xlabel(\"Latitude\")\n",
    "plt.ylabel(\"Cloudiness (%)\")\n",
    "plt.title(\"Southern Hemisphere - Cloudiness (%) vs. Latitude Linear Regression (02/03/2021)\")\n",
    "plt.show()"
   ]
  },
  {
   "cell_type": "markdown",
   "metadata": {},
   "source": [
    "####  Northern Hemisphere - Wind Speed (mph) vs. Latitude Linear Regression"
   ]
  },
  {
   "cell_type": "code",
   "execution_count": 76,
   "metadata": {},
   "outputs": [
    {
     "name": "stdout",
     "output_type": "stream",
     "text": [
      "The r value is: 0.053837787881768844\n"
     ]
    },
    {
     "data": {
      "image/png": "[encoded data removed]",
      "text/plain": [
       "<Figure size 432x288 with 1 Axes>"
      ]
     },
     "metadata": {
      "needs_background": "light"
     },
     "output_type": "display_data"
    }
   ],
   "source": [
    "x_values = northern_hem[\"Lat\"]\n",
    "y_values = northern_hem[\"Wind Speed\"]\n",
    "(slope, intercept, rvalue, pvalue, stderr) = linregress(x_values, y_values)\n",
    "print(f\"The r value is: {rvalue}\")\n",
    "regress_values = x_values * slope + intercept\n",
    "line_eq = \"y = \" + str(round(slope,2)) + \"x + \" + str(round(intercept,2))\n",
    "plt.scatter(x_values,y_values)\n",
    "plt.plot(x_values,regress_values,\"r-\")\n",
    "plt.annotate(line_eq,(0,30),fontsize=15,color=\"red\")\n",
    "plt.xlabel(\"Latitude\")\n",
    "plt.ylabel(\"Wind Speed (mph)\")\n",
    "plt.title(\"Northern Hemisphere - Wind Speed (mph) vs. Latitude Linear Regression (02/03/2021)\")\n",
    "plt.show()"
   ]
  },
  {
   "cell_type": "markdown",
   "metadata": {},
   "source": [
    "####  Southern Hemisphere - Wind Speed (mph) vs. Latitude Linear Regression"
   ]
  },
  {
   "cell_type": "code",
   "execution_count": 77,
   "metadata": {},
   "outputs": [
    {
     "name": "stdout",
     "output_type": "stream",
     "text": [
      "The r value is: -0.26126760588369935\n"
     ]
    },
    {
     "data": {
      "image/png": "[encoded data removed]",
      "text/plain": [
       "<Figure size 432x288 with 1 Axes>"
      ]
     },
     "metadata": {
      "needs_background": "light"
     },
     "output_type": "display_data"
    }
   ],
   "source": [
    "x_values = southern_hem[\"Lat\"]\n",
    "y_values = southern_hem[\"Wind Speed\"]\n",
    "(slope, intercept, rvalue, pvalue, stderr) = linregress(x_values, y_values)\n",
    "print(f\"The r value is: {rvalue}\")\n",
    "regress_values = x_values * slope + intercept\n",
    "line_eq = \"y = \" + str(round(slope,2)) + \"x + \" + str(round(intercept,2))\n",
    "plt.scatter(x_values,y_values)\n",
    "plt.plot(x_values,regress_values,\"r-\")\n",
    "plt.annotate(line_eq,(-50,20),fontsize=15,color=\"red\")\n",
    "plt.xlabel(\"Latitude\")\n",
    "plt.ylabel(\"Wind Speed (mph)\")\n",
    "plt.title(\"Southern Hemisphere - Wind Speed (mph) vs. Latitude Linear Regression (02/03/2021)\")\n",
    "plt.show()"
   ]
  },
  {
   "cell_type": "code",
   "execution_count": null,
   "metadata": {},
   "outputs": [],
   "source": []
  }
 ],
 "metadata": {
  "anaconda-cloud": {},
  "kernel_info": {
   "name": "python3"
  },
  "kernelspec": {
   "display_name": "PythonData",
   "language": "python",
   "name": "pythondata"
  },
  "language_info": {
   "codemirror_mode": {
    "name": "ipython",
    "version": 3
   },
   "file_extension": ".py",
   "mimetype": "text/x-python",
   "name": "python",
   "nbconvert_exporter": "python",
   "pygments_lexer": "ipython3",
   "version": "3.6.10"
  },
  "latex_envs": {
   "LaTeX_envs_menu_present": true,
   "autoclose": false,
   "autocomplete": true,
   "bibliofile": "biblio.bib",
   "cite_by": "apalike",
   "current_citInitial": 1,
   "eqLabelWithNumbers": true,
   "eqNumInitial": 1,
   "hotkeys": {
    "equation": "Ctrl-E",
    "itemize": "Ctrl-I"
   },
   "labels_anchors": false,
   "latex_user_defs": false,
   "report_style_numbering": false,
   "user_envs_cfg": false
  },
  "nteract": {
   "version": "0.12.3"
  }
 },
 "nbformat": 4,
 "nbformat_minor": 2
}
